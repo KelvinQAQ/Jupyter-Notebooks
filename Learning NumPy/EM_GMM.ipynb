{
 "cells": [
  {
   "cell_type": "code",
   "execution_count": 94,
   "metadata": {},
   "outputs": [
    {
     "data": {
      "text/plain": [
       "Text(0.5,1,'$\\\\sigma$')"
      ]
     },
     "execution_count": 94,
     "metadata": {},
     "output_type": "execute_result"
    },
    {
     "data": {
      "image/png": "[encoded data removed]",
      "text/plain": [
       "<matplotlib.figure.Figure at 0x7f8925fb6a90>"
      ]
     },
     "metadata": {},
     "output_type": "display_data"
    }
   ],
   "source": [
    "import numpy as np\n",
    "import matplotlib.pyplot as plt\n",
    "from scipy import stats\n",
    "\n",
    "# 一元高斯概率密度函数\n",
    "def norm(x, mu, sigma):\n",
    "    return np.squeeze(1 / (np.sqrt(2*np.pi)*sigma) * np.exp(-np.power(x-mu, 2)/(2*sigma*sigma)))\n",
    "\n",
    "# 生成样本\n",
    "phi1, mu1, sigma1 = [0.2, 5, 3]\n",
    "phi2, mu2, sigma2 = [0.4, 20, 5]\n",
    "phi3, mu3, sigma3 = [0.4, 50, 10]\n",
    "\n",
    "N = 10000 # 样本点个数\n",
    "x = np.zeros((N, 1))\n",
    "for i in range(N):\n",
    "    rate = np.random.rand()\n",
    "    if rate <= phi1:\n",
    "        x[i] = np.random.normal(mu1, sigma1)\n",
    "    elif rate <= phi1 + phi2:\n",
    "        x[i] = np.random.normal(mu2, sigma2)\n",
    "    else:\n",
    "        x[i] = np.random.normal(mu3, sigma3)\n",
    "        \n",
    "# 画出样本分布直方图\n",
    "plt.subplot(2, 2, 1)\n",
    "n, bins, patches = plt.hist(x, 100)\n",
    "\n",
    "# 学习过程\n",
    "mu = [0, 5, 10]\n",
    "sigma = [5, 5, 5]\n",
    "phi = [0.33, 0.33, 0.34]\n",
    "w = np.zeros((N, 3))\n",
    "\n",
    "T = 50 # 迭代次数\n",
    "\n",
    "# --初始化存储变量，存放每次训练后的值\n",
    "mu_ = np.zeros((T+1, 3))\n",
    "sigma_ = np.zeros((T+1, 3))\n",
    "phi_ = np.zeros((T+1, 3))\n",
    "\n",
    "# --将初始值放存储变量第一行\n",
    "mu_[1, :] = mu\n",
    "sigma_[1,:] = sigma\n",
    "phi_[1, :] = phi\n",
    "\n",
    "# --开始训练\n",
    "for t in range(T):\n",
    "    # --Expactation\n",
    "    for k in range(3):\n",
    "#         print(w[:, k].shape)\n",
    "#         print(norm(x, mu[k], sigma[k]).shape)\n",
    "        w[:, k] = phi[k] * norm(x, mu[k], sigma[k])\n",
    "    \n",
    "    w = w / np.tile(np.sum(w, 1).reshape(N, 1), [1, 3])\n",
    "    \n",
    "    # --Maximization\n",
    "    for k in range(3):\n",
    "        mu[k] = np.dot(w[:, k], x) / sum(w[:, k])\n",
    "        sigma[k] = np.sqrt(np.dot(w[:, k].T, (x - mu[k]) * (x - mu[k])) / np.sum(w[:, k]))\n",
    "        phi[k] = np.sum(w[:, k]) / N\n",
    "        \n",
    "    mu_[t+1, :] = mu\n",
    "    sigma_[t+1, :] = sigma\n",
    "    phi_[t+1, :] = phi\n",
    "    \n",
    "plt.subplot(2, 2, 2)\n",
    "plt.plot(phi_)\n",
    "plt.title(r'$\\phi$')\n",
    "plt.subplot(2, 2, 3)\n",
    "plt.plot(mu_)\n",
    "plt.title(r'$\\mu$')\n",
    "plt.subplot(2, 2, 4)\n",
    "plt.plot(sigma_)\n",
    "plt.title(r'$\\sigma$')"
   ]
  },
  {
   "cell_type": "code",
   "execution_count": 84,
   "metadata": {},
   "outputs": [
    {
     "data": {
      "text/plain": [
       "array([[ 1.,  1.,  1.,  1.,  1.,  1.,  1.,  1.,  1.,  1.,  1.,  1.,  1.,\n",
       "         1.,  1.,  1.,  1.,  1.,  1.,  1.,  1.,  1.,  1.,  1.,  1.,  1.,\n",
       "         1.,  1.,  1.,  1.,  1.,  1.,  1.,  1.,  1.,  1.,  1.,  1.,  1.,\n",
       "         1.,  1.,  1.,  1.,  1.,  1.,  1.,  1.,  1.,  1.,  1.,  1.,  1.,\n",
       "         1.,  1.,  1.,  1.,  1.,  1.,  1.,  1.,  1.,  1.,  1.,  1.,  1.,\n",
       "         1.,  1.,  1.,  1.,  1.,  1.,  1.,  1.,  1.,  1.,  1.,  1.,  1.,\n",
       "         1.,  1.,  1.,  1.,  1.,  1.,  1.,  1.,  1.,  1.,  1.,  1.,  1.,\n",
       "         1.,  1.,  1.,  1.,  1.,  1.,  1.,  1.,  1.],\n",
       "       [ 1.,  1.,  1.,  1.,  1.,  1.,  1.,  1.,  1.,  1.,  1.,  1.,  1.,\n",
       "         1.,  1.,  1.,  1.,  1.,  1.,  1.,  1.,  1.,  1.,  1.,  1.,  1.,\n",
       "         1.,  1.,  1.,  1.,  1.,  1.,  1.,  1.,  1.,  1.,  1.,  1.,  1.,\n",
       "         1.,  1.,  1.,  1.,  1.,  1.,  1.,  1.,  1.,  1.,  1.,  1.,  1.,\n",
       "         1.,  1.,  1.,  1.,  1.,  1.,  1.,  1.,  1.,  1.,  1.,  1.,  1.,\n",
       "         1.,  1.,  1.,  1.,  1.,  1.,  1.,  1.,  1.,  1.,  1.,  1.,  1.,\n",
       "         1.,  1.,  1.,  1.,  1.,  1.,  1.,  1.,  1.,  1.,  1.,  1.,  1.,\n",
       "         1.,  1.,  1.,  1.,  1.,  1.,  1.,  1.,  1.],\n",
       "       [ 1.,  1.,  1.,  1.,  1.,  1.,  1.,  1.,  1.,  1.,  1.,  1.,  1.,\n",
       "         1.,  1.,  1.,  1.,  1.,  1.,  1.,  1.,  1.,  1.,  1.,  1.,  1.,\n",
       "         1.,  1.,  1.,  1.,  1.,  1.,  1.,  1.,  1.,  1.,  1.,  1.,  1.,\n",
       "         1.,  1.,  1.,  1.,  1.,  1.,  1.,  1.,  1.,  1.,  1.,  1.,  1.,\n",
       "         1.,  1.,  1.,  1.,  1.,  1.,  1.,  1.,  1.,  1.,  1.,  1.,  1.,\n",
       "         1.,  1.,  1.,  1.,  1.,  1.,  1.,  1.,  1.,  1.,  1.,  1.,  1.,\n",
       "         1.,  1.,  1.,  1.,  1.,  1.,  1.,  1.,  1.,  1.,  1.,  1.,  1.,\n",
       "         1.,  1.,  1.,  1.,  1.,  1.,  1.,  1.,  1.]])"
      ]
     },
     "execution_count": 84,
     "metadata": {},
     "output_type": "execute_result"
    }
   ],
   "source": [
    "import numpy as np\n",
    "\n",
    "a = np.zeros((100, 3))\n",
    "b = np.ones((100, 1))\n",
    "\n",
    "a[:, 0] = b.squeeze()\n",
    "\n",
    "c = np.sum(a, 1)\n",
    "\n",
    "d = np.tile(c, [3,1])\n",
    "d"
   ]
  }
 ],
 "metadata": {
  "kernelspec": {
   "display_name": "Python 3",
   "language": "python",
   "name": "python3"
  },
  "language_info": {
   "codemirror_mode": {
    "name": "ipython",
    "version": 3
   },
   "file_extension": ".py",
   "mimetype": "text/x-python",
   "name": "python",
   "nbconvert_exporter": "python",
   "pygments_lexer": "ipython3",
   "version": "3.5.4rc1"
  }
 },
 "nbformat": 4,
 "nbformat_minor": 2
}
