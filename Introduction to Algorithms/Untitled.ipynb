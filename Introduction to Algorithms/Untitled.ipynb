{
 "cells": [
  {
   "cell_type": "markdown",
   "metadata": {},
   "source": [
    "# 0-1背包问题\n",
    "\n"
   ]
  },
  {
   "cell_type": "code",
   "execution_count": 25,
   "metadata": {},
   "outputs": [
    {
     "name": "stdout",
     "output_type": "stream",
     "text": [
      "480\n",
      "[[ 0  0  0  0  0  0  0  0  0  0 -1]\n",
      " [ 0  0  0  0  0  0  0  0  0  0 -2]\n",
      " [ 0  0  0  0  0  0  0 -3 -3  0  0]\n",
      " [ 0  0  0  0 -4  0  0  0  0 -4 -4]\n",
      " [ 0  0  0  0  0 -5 -5 -5 -5 -5 -5]]\n"
     ]
    }
   ],
   "source": [
    "import numpy as np\n",
    "\n",
    "v = np.array([60, 100, 120, 200, 220])\n",
    "w = np.array([1, 2, 3, 4, 5])\n",
    "n = 5\n",
    "W = 10\n",
    "s = np.zeros((n, W+1), dtype='i')\n",
    "\n",
    "global v, w, s, n\n",
    "\n",
    "def max_value(i, W):\n",
    "    if i > n-1:\n",
    "        return 0\n",
    "    elif w[i] > W:\n",
    "        return 0\n",
    "    else:\n",
    "        v1 = v[i] + max_value(i+1, W-w[i])\n",
    "        v2 = max_value(i+1, W)\n",
    "        if v1 > v2:\n",
    "            s[i,W] = -w[i]\n",
    "        return max(v1, v2)\n",
    "    \n",
    "print(max_value(0, W))\n",
    "print(s)"
   ]
  }
 ],
 "metadata": {
  "kernelspec": {
   "display_name": "Python 3",
   "language": "python",
   "name": "python3"
  },
  "language_info": {
   "codemirror_mode": {
    "name": "ipython",
    "version": 3
   },
   "file_extension": ".py",
   "mimetype": "text/x-python",
   "name": "python",
   "nbconvert_exporter": "python",
   "pygments_lexer": "ipython3",
   "version": "3.5.4rc1"
  }
 },
 "nbformat": 4,
 "nbformat_minor": 2
}
