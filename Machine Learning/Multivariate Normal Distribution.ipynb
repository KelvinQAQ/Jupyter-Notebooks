{
 "cells": [
  {
   "cell_type": "markdown",
   "metadata": {},
   "source": [
    "# Gaussian discriminant analysis 高斯判别分析\n",
    "\n",
    "接下来要学习的第一个生成型学习算法是高斯判别分析（gaussian discriminant analysis, GDA）。首先要了解的是多元正态分布。\n",
    "\n",
    "## The multivariate normal distribution 多元正态分布\n",
    "\n",
    "一个n元的多元正态分布由一个n维的均值向量$\\mu$（mean vector）和一个n维协方差矩阵$\\Sigma$（covariance matrix）定义：\n",
    "\n",
    "$$p(x;\\mu,\\Sigma)=\\frac{1}{(2\\pi)^{n/2}\\lvert{\\Sigma}\\rvert^{1/2}}exp\\left(-\\frac{1}{2}(x-\\mu)^T\\Sigma^{-1}(x-\\mu)\\right)$$\n",
    "\n",
    "其中$\\lvert{\\Sigma}\\rvert$代表协方差矩阵$\\Sigma$的行列式\n",
    "\n",
    "> 多元正态分布的性质：\n",
    "> 1. $E(X)=\\mu$，$Cov(X)=\\Sigma$；\n",
    "> 2. 多元正态分布随即向量X的任何一个分量子集的分布（称为边缘分布）仍然遵从正态分布，反之则不然；\n",
    "> 3. 多元正态分布的任意线性变换仍遵从多元正态分布，$Z_{m\\times1}=A_{m\\times n}X+b$，则$Z\\sim N_m(A\\mu+b, A\\Sigma^{-1}A')$\n",
    "\n",
    "## The Gaussian Discriminant Analysis model 高斯判别分析模型\n",
    "\n",
    "当对一个输入$x$为连续值/向量的分类问题进行建模时，我们可以用GDA模型对其建模。以最简单的二分类问题为例，这样的分类问题模型将输入的两类看作是两个由不同参数定义的多元正态分布，一般它们的方差是相同的，差别在于均值的不同。\n",
    "\n",
    "模型如下定义：\n",
    "\n",
    "$$\\begin{align*}\n",
    "    y &\\sim \\text{Bernoulli}(\\phi) \\\\\n",
    "    x\\mid y=0 &\\sim \\mathcal{N}(\\mu_0, \\Sigma) \\\\\n",
    "    x\\mid y=1 &\\sim \\mathcal{N}(\\mu_1, \\Sigma)\n",
    "  \\end{align*}$$\n",
    "  \n",
    "用分布函数来表示：\n",
    "$$\\begin{align*}\n",
    "    p(y)&=\\phi^y(1-\\phi)^{1-y} \\\\\n",
    "    p(x\\mid y=0)&=\\frac{1}{(2\\pi)^{n/2}\\lvert{\\Sigma}\\rvert^{1/2}}exp\\left(-\\frac{1}{2}(x-\\mu_0)^T\\Sigma^{-1}(x-\\mu_0)\\right) \\\\\n",
    "    p(x\\mid y=1)&=\\frac{1}{(2\\pi)^{n/2}\\lvert{\\Sigma}\\rvert^{1/2}}exp\\left(-\\frac{1}{2}(x-\\mu_1)^T\\Sigma^{-1}(x-\\mu_1)\\right)\n",
    "    \\end{align*}$$\n",
    "    \n",
    "则概率学习的似然函数为：\n",
    "$$\\begin{align*}\n",
    "    \\mathcal{l}(\\phi, \\mu_0, \\mu_1, \\Sigma)&=\\log\\prod_{i=1}^mp(x^{(i)}, y^{(i)};\\phi, \\mu_0, \\mu_1, \\Sigma) \\\\\n",
    "    &=\\log\\prod_{i=1}^mp(x^{(i)} \\mid y^{(i)};\\mu_0, \\mu_1, \\Sigma)p(y^{(i)};\\phi)\n",
    "    \\end{align*}$$"
   ]
  }
 ],
 "metadata": {
  "kernelspec": {
   "display_name": "Python 3",
   "language": "python",
   "name": "python3"
  },
  "language_info": {
   "codemirror_mode": {
    "name": "ipython",
    "version": 3
   },
   "file_extension": ".py",
   "mimetype": "text/x-python",
   "name": "python",
   "nbconvert_exporter": "python",
   "pygments_lexer": "ipython3",
   "version": "3.5.4rc1"
  }
 },
 "nbformat": 4,
 "nbformat_minor": 2
}
